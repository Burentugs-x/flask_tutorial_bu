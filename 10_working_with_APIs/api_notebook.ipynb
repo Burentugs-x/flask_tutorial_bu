{
  "cells": [
    {
      "cell_type": "markdown",
      "metadata": {
        "id": "view-in-github",
        "colab_type": "text"
      },
      "source": [
        "<a href=\"https://colab.research.google.com/github/Burentugs-x/flask_tutorial_bu/blob/main/10_working_with_APIs/api_notebook.ipynb\" target=\"_parent\"><img src=\"https://colab.research.google.com/assets/colab-badge.svg\" alt=\"Open In Colab\"/></a>"
      ]
    },
    {
      "cell_type": "code",
      "execution_count": 1,
      "metadata": {
        "id": "rsYTY_y4CRw2"
      },
      "outputs": [],
      "source": [
        "\n",
        "import requests\n",
        "\n",
        "# API URL\n",
        "url = \"https://pokeapi.co/api/v2/pokemon/arbok\"  # Replace with your API endpoint\n",
        "\n",
        "\n",
        "# Sending GET request\n",
        "response = requests.get(url)"
      ]
    },
    {
      "cell_type": "code",
      "execution_count": 2,
      "metadata": {
        "id": "52hgdk_FMko9",
        "colab": {
          "base_uri": "https://localhost:8080/"
        },
        "outputId": "ac238bd9-e112-4661-ab5e-f2694a12f122"
      },
      "outputs": [
        {
          "output_type": "stream",
          "name": "stdout",
          "text": [
            "gholdengo's abitility is good-as-gold and height is 12.\n"
          ]
        }
      ],
      "source": [
        "\n",
        "# API URL\n",
        "\n",
        "name = \"gholdengo\"\n",
        "url = f\"https://pokeapi.co/api/v2/pokemon/{name}\"  # Replace with your API endpoint\n",
        "# Sending GET request\n",
        "response = requests.get(url)\n",
        "raw_data = response.json()\n",
        "ability = raw_data['abilities'][0]['ability']['name']\n",
        "height = raw_data['height']\n",
        "print(f\"{name}'s abitility is {ability} and height is {height}.\")"
      ]
    },
    {
      "cell_type": "code",
      "execution_count": 3,
      "metadata": {
        "id": "UohWGfUrM4fd"
      },
      "outputs": [],
      "source": [
        "\n",
        "def show_ability(name):\n",
        "  url = f\"https://pokeapi.co/api/v2/pokemon/{name}\"  # Replace with your API endpoint\n",
        "  # Sending GET request\n",
        "  response = requests.get(url)\n",
        "  raw_data = response.json()\n",
        "  ability = raw_data['abilities'][0]['ability']['name']\n",
        "  height = raw_data['height']\n",
        "  order = raw_data['order']\n",
        "  print(f\"{name}'s abitility is {ability} and height is {height}. Order is {order}\")"
      ]
    },
    {
      "cell_type": "code",
      "execution_count": 12,
      "metadata": {
        "id": "7F_x5p-aM-88"
      },
      "outputs": [],
      "source": [
        "\n",
        "pokemon_names = [\n",
        "    \"Pikachu\",\n",
        "    \"Charmander\",\n",
        "    \"Bulbasaur\",\n",
        "    \"Squirtle\",\n",
        "    \"Mewtwo\",\n",
        "    \"Eevee\",\n",
        "    \"Gengar\",\n",
        "    \"Lucario\",\n",
        "    \"Dragonite\",\n",
        "    \"Arceus\"\n",
        "]"
      ]
    },
    {
      "cell_type": "code",
      "execution_count": 5,
      "metadata": {
        "colab": {
          "base_uri": "https://localhost:8080/"
        },
        "id": "h3GAe_1NNNEj",
        "outputId": "1f402bef-d871-4884-ce01-a47c511c9af7"
      },
      "outputs": [
        {
          "output_type": "stream",
          "name": "stdout",
          "text": [
            "Pikachu\n",
            "pikachu's abitility is static and height is 4. Order is 35\n",
            "Charmander\n",
            "charmander's abitility is blaze and height is 6. Order is 5\n",
            "Bulbasaur\n",
            "bulbasaur's abitility is overgrow and height is 7. Order is 1\n",
            "Squirtle\n",
            "squirtle's abitility is torrent and height is 5. Order is 10\n",
            "Mewtwo\n",
            "mewtwo's abitility is pressure and height is 20. Order is 245\n",
            "Eevee\n",
            "eevee's abitility is run-away and height is 3. Order is 215\n",
            "Gengar\n",
            "gengar's abitility is cursed-body and height is 15. Order is 149\n",
            "Lucario\n",
            "lucario's abitility is steadfast and height is 12. Order is 573\n",
            "Dragonite\n",
            "dragonite's abitility is inner-focus and height is 22. Order is 244\n",
            "Arceus\n",
            "arceus's abitility is multitype and height is 32. Order is 608\n"
          ]
        }
      ],
      "source": [
        "\n",
        "for name in pokemon_names:\n",
        "  print(name)\n",
        "  show_ability(name.lower())"
      ]
    },
    {
      "cell_type": "code",
      "execution_count": 6,
      "metadata": {
        "colab": {
          "base_uri": "https://localhost:8080/",
          "height": 445
        },
        "id": "FjKtAlB1b6_1",
        "outputId": "62a4daeb-91ed-4e20-fbdf-2a6be3992278"
      },
      "outputs": [
        {
          "name": "stdout",
          "output_type": "stream",
          "text": [
            "Enter the name of the Pokémon: Charmander\n"
          ]
        },
        {
          "output_type": "display_data",
          "data": {
            "text/plain": [
              "<Figure size 640x480 with 1 Axes>"
            ],
            "image/png": "[encoded data removed]"
          },
          "metadata": {}
        }
      ],
      "source": [
        "import requests\n",
        "import matplotlib.pyplot as plt\n",
        "from PIL import Image\n",
        "from io import BytesIO\n",
        "\n",
        "# Function to fetch Pokémon sprite\n",
        "def fetch_pokemon_sprite(pokemon_name):\n",
        "    url = f\"https://pokeapi.co/api/v2/pokemon/{pokemon_name}\"  # API endpoint\n",
        "    response = requests.get(url)\n",
        "\n",
        "    if response.status_code == 200:\n",
        "        raw_data = response.json()\n",
        "        sprite_url = raw_data['sprites']['front_default']\n",
        "        return sprite_url\n",
        "    else:\n",
        "        print(f\"Error: Couldn't find Pokémon {pokemon_name}\")\n",
        "        return None\n",
        "\n",
        "# Function to display Pokémon sprite\n",
        "def display_pokemon_sprite(sprite_url, pokemon_name):\n",
        "    response = requests.get(sprite_url)\n",
        "    if response.status_code == 200:\n",
        "        image = Image.open(BytesIO(response.content))\n",
        "\n",
        "        # Display image using matplotlib\n",
        "        plt.imshow(image)\n",
        "        plt.axis('off')  # Turn off axes\n",
        "        plt.title(f\"{pokemon_name.capitalize()} Sprite\")\n",
        "        plt.show()\n",
        "    else:\n",
        "        print(\"Error: Unable to fetch sprite image.\")\n",
        "\n",
        "# Main script\n",
        "if __name__ == \"__main__\":\n",
        "    pokemon_name = input(\"Enter the name of the Pokémon: \").lower()\n",
        "    sprite_url = fetch_pokemon_sprite(pokemon_name)\n",
        "\n",
        "    if sprite_url:\n",
        "        display_pokemon_sprite(sprite_url, pokemon_name)\n"
      ]
    },
    {
      "cell_type": "code",
      "source": [
        "def show_stat(name):\n",
        "  url = f\"https://pokeapi.co/api/v2/pokemon/{name}\"\n",
        "  response = requests.get(url)\n",
        "  raw_data = response.json()\n",
        "  base_stat = raw_data['base_stat']\n",
        "  base_experience = raw_data['base_experience']\n",
        "  defense = raw_data['defense']\n",
        "  print(f\"{name}'s base stat is {base_stat}, base experience is {base_experience}, and defense is {defense}\")"
      ],
      "metadata": {
        "id": "CcQ0JL3RyH6p"
      },
      "execution_count": 14,
      "outputs": []
    },
    {
      "cell_type": "code",
      "source": [
        "for name in pokemon_names:\n",
        "  print(name)\n",
        "  show_stat(name.lower())"
      ],
      "metadata": {
        "id": "PfI6p0RsyHq-",
        "outputId": "f5e0867a-a7c7-4e4c-ce90-c6d231594ea7",
        "colab": {
          "base_uri": "https://localhost:8080/",
          "height": 315
        }
      },
      "execution_count": 15,
      "outputs": [
        {
          "output_type": "stream",
          "name": "stdout",
          "text": [
            "Pikachu\n"
          ]
        },
        {
          "output_type": "error",
          "ename": "KeyError",
          "evalue": "'base_stat'",
          "traceback": [
            "\u001b[0;31m---------------------------------------------------------------------------\u001b[0m",
            "\u001b[0;31mKeyError\u001b[0m                                  Traceback (most recent call last)",
            "\u001b[0;32m<ipython-input-15-fb12544fddec>\u001b[0m in \u001b[0;36m<cell line: 1>\u001b[0;34m()\u001b[0m\n\u001b[1;32m      1\u001b[0m \u001b[0;32mfor\u001b[0m \u001b[0mname\u001b[0m \u001b[0;32min\u001b[0m \u001b[0mpokemon_names\u001b[0m\u001b[0;34m:\u001b[0m\u001b[0;34m\u001b[0m\u001b[0;34m\u001b[0m\u001b[0m\n\u001b[1;32m      2\u001b[0m   \u001b[0mprint\u001b[0m\u001b[0;34m(\u001b[0m\u001b[0mname\u001b[0m\u001b[0;34m)\u001b[0m\u001b[0;34m\u001b[0m\u001b[0;34m\u001b[0m\u001b[0m\n\u001b[0;32m----> 3\u001b[0;31m   \u001b[0mshow_stat\u001b[0m\u001b[0;34m(\u001b[0m\u001b[0mname\u001b[0m\u001b[0;34m.\u001b[0m\u001b[0mlower\u001b[0m\u001b[0;34m(\u001b[0m\u001b[0;34m)\u001b[0m\u001b[0;34m)\u001b[0m\u001b[0;34m\u001b[0m\u001b[0;34m\u001b[0m\u001b[0m\n\u001b[0m",
            "\u001b[0;32m<ipython-input-14-75938f58b70f>\u001b[0m in \u001b[0;36mshow_stat\u001b[0;34m(name)\u001b[0m\n\u001b[1;32m      3\u001b[0m   \u001b[0mresponse\u001b[0m \u001b[0;34m=\u001b[0m \u001b[0mrequests\u001b[0m\u001b[0;34m.\u001b[0m\u001b[0mget\u001b[0m\u001b[0;34m(\u001b[0m\u001b[0murl\u001b[0m\u001b[0;34m)\u001b[0m\u001b[0;34m\u001b[0m\u001b[0;34m\u001b[0m\u001b[0m\n\u001b[1;32m      4\u001b[0m   \u001b[0mraw_data\u001b[0m \u001b[0;34m=\u001b[0m \u001b[0mresponse\u001b[0m\u001b[0;34m.\u001b[0m\u001b[0mjson\u001b[0m\u001b[0;34m(\u001b[0m\u001b[0;34m)\u001b[0m\u001b[0;34m\u001b[0m\u001b[0;34m\u001b[0m\u001b[0m\n\u001b[0;32m----> 5\u001b[0;31m   \u001b[0mbase_stat\u001b[0m \u001b[0;34m=\u001b[0m \u001b[0mraw_data\u001b[0m\u001b[0;34m[\u001b[0m\u001b[0;34m'base_stat'\u001b[0m\u001b[0;34m]\u001b[0m\u001b[0;34m\u001b[0m\u001b[0;34m\u001b[0m\u001b[0m\n\u001b[0m\u001b[1;32m      6\u001b[0m   \u001b[0mbase_experience\u001b[0m \u001b[0;34m=\u001b[0m \u001b[0mraw_data\u001b[0m\u001b[0;34m[\u001b[0m\u001b[0;34m'base_experience'\u001b[0m\u001b[0;34m]\u001b[0m\u001b[0;34m\u001b[0m\u001b[0;34m\u001b[0m\u001b[0m\n\u001b[1;32m      7\u001b[0m   \u001b[0mdefense\u001b[0m \u001b[0;34m=\u001b[0m \u001b[0mraw_data\u001b[0m\u001b[0;34m[\u001b[0m\u001b[0;34m'defense'\u001b[0m\u001b[0;34m]\u001b[0m\u001b[0;34m\u001b[0m\u001b[0;34m\u001b[0m\u001b[0m\n",
            "\u001b[0;31mKeyError\u001b[0m: 'base_stat'"
          ]
        }
      ]
    },
    {
      "cell_type": "code",
      "source": [
        "def show_stat(name):\n",
        "    url = f\"https://pokeapi.co/api/v2/pokemon/{name}\"\n",
        "    response = requests.get(url)\n",
        "    raw_data = response.json()\n",
        "    base_experience = raw_data['base_experience']\n",
        "    defense = None\n",
        "    base_stat = None\n",
        "    for stat in raw_data['stats']:\n",
        "        if stat['stat']['name'] == 'defense':\n",
        "            defense = stat['base_stat']\n",
        "        if stat['stat']['name'] == 'hp':\n",
        "            base_stat = stat['base_stat']\n",
        "    print(f\"{name}'s base stat (HP) is {base_stat}, base experience is {base_experience}, and defense is {defense}.\")"
      ],
      "metadata": {
        "id": "0hehXOUv0XDs"
      },
      "execution_count": 16,
      "outputs": []
    },
    {
      "cell_type": "code",
      "source": [
        "pokemon_names = [\n",
        "    \"Pikachu\",\n",
        "    \"Charmander\",\n",
        "    \"Bulbasaur\",\n",
        "    \"Squirtle\",\n",
        "    \"Mewtwo\",\n",
        "    \"Eevee\",\n",
        "    \"Gengar\",\n",
        "    \"Lucario\",\n",
        "    \"Dragonite\",\n",
        "    \"Arceus\"\n",
        "]"
      ],
      "metadata": {
        "id": "dZBeKfe_1C6R"
      },
      "execution_count": 18,
      "outputs": []
    },
    {
      "cell_type": "code",
      "source": [
        "for name in pokemon_names:\n",
        "    print(name)\n",
        "    show_stat(name.lower())\n"
      ],
      "metadata": {
        "id": "abSwFP9o04Oo",
        "outputId": "ff72fa5c-dc83-4d19-e8a6-42df00219a69",
        "colab": {
          "base_uri": "https://localhost:8080/"
        }
      },
      "execution_count": 19,
      "outputs": [
        {
          "output_type": "stream",
          "name": "stdout",
          "text": [
            "Pikachu\n",
            "pikachu's base stat (HP) is 35, base experience is 112, and defense is 40.\n",
            "Charmander\n",
            "charmander's base stat (HP) is 39, base experience is 62, and defense is 43.\n",
            "Bulbasaur\n",
            "bulbasaur's base stat (HP) is 45, base experience is 64, and defense is 49.\n",
            "Squirtle\n",
            "squirtle's base stat (HP) is 44, base experience is 63, and defense is 65.\n",
            "Mewtwo\n",
            "mewtwo's base stat (HP) is 106, base experience is 340, and defense is 90.\n",
            "Eevee\n",
            "eevee's base stat (HP) is 55, base experience is 65, and defense is 50.\n",
            "Gengar\n",
            "gengar's base stat (HP) is 60, base experience is 250, and defense is 60.\n",
            "Lucario\n",
            "lucario's base stat (HP) is 70, base experience is 184, and defense is 70.\n",
            "Dragonite\n",
            "dragonite's base stat (HP) is 91, base experience is 300, and defense is 95.\n",
            "Arceus\n",
            "arceus's base stat (HP) is 120, base experience is 324, and defense is 120.\n"
          ]
        }
      ]
    },
    {
      "cell_type": "code",
      "source": [
        "def get_defense(name):\n",
        "    for stat in raw_data['stats']:\n",
        "        if stat['stat']['name'] == 'defense':\n",
        "            return stat['base_stat']\n",
        "\n",
        "max_defense_pokemon = max(pokemon_names, key=get_defense)"
      ],
      "metadata": {
        "id": "8T2oSde-1FRh",
        "outputId": "c8b7de1d-b105-439a-c4c0-9483386a8806",
        "colab": {
          "base_uri": "https://localhost:8080/"
        }
      },
      "execution_count": 25,
      "outputs": [
        {
          "output_type": "stream",
          "name": "stdout",
          "text": [
            "The Pokémon with the highest defense is Pikachu, with a defense of 95.\n"
          ]
        }
      ]
    },
    {
      "cell_type": "code",
      "source": [
        "for name in pokemon_names:\n",
        "    print(get_defense)\n",
        "    get_defense(name.lower())\n"
      ],
      "metadata": {
        "id": "nJ7_oHG_27c6",
        "outputId": "49021094-d96e-4c7c-e23a-3ea3d6c911ac",
        "colab": {
          "base_uri": "https://localhost:8080/"
        }
      },
      "execution_count": 32,
      "outputs": [
        {
          "output_type": "stream",
          "name": "stdout",
          "text": [
            "<function get_defense at 0x7d7ed5e22f80>\n",
            "<function get_defense at 0x7d7ed5e22f80>\n",
            "<function get_defense at 0x7d7ed5e22f80>\n",
            "<function get_defense at 0x7d7ed5e22f80>\n",
            "<function get_defense at 0x7d7ed5e22f80>\n",
            "<function get_defense at 0x7d7ed5e22f80>\n",
            "<function get_defense at 0x7d7ed5e22f80>\n",
            "<function get_defense at 0x7d7ed5e22f80>\n",
            "<function get_defense at 0x7d7ed5e22f80>\n",
            "<function get_defense at 0x7d7ed5e22f80>\n"
          ]
        }
      ]
    }
  ],
  "metadata": {
    "colab": {
      "provenance": [],
      "include_colab_link": true
    },
    "kernelspec": {
      "display_name": "Python 3",
      "name": "python3"
    },
    "language_info": {
      "name": "python"
    }
  },
  "nbformat": 4,
  "nbformat_minor": 0
}